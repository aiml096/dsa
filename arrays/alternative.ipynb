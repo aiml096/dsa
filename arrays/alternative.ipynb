{
 "cells": [
  {
   "cell_type": "code",
   "execution_count": 3,
   "metadata": {},
   "outputs": [
    {
     "name": "stdout",
     "output_type": "stream",
     "text": [
      "1\n",
      "3\n"
     ]
    }
   ],
   "source": [
    "li=[1,2,3,4]\n",
    "for i in range(0,len(li),2):\n",
    "    print(li[i])\n",
    "    "
   ]
  },
  {
   "cell_type": "markdown",
   "metadata": {},
   "source": [
    "<h1>linear search</h1>"
   ]
  },
  {
   "cell_type": "code",
   "execution_count": 6,
   "metadata": {},
   "outputs": [
    {
     "name": "stdout",
     "output_type": "stream",
     "text": [
      "found\n"
     ]
    }
   ],
   "source": [
    "x=2\n",
    "for i in li:\n",
    "    if x==i:\n",
    "        print(\"found\")"
   ]
  },
  {
   "cell_type": "code",
   "execution_count": 10,
   "metadata": {},
   "outputs": [
    {
     "name": "stdout",
     "output_type": "stream",
     "text": [
      "6\n"
     ]
    }
   ],
   "source": [
    "li1=[2,1,5,6]\n",
    "max=0\n",
    "for i in li1:\n",
    "    if i>max:\n",
    "        max=i\n",
    "print(max)"
   ]
  },
  {
   "cell_type": "code",
   "execution_count": 17,
   "metadata": {},
   "outputs": [
    {
     "name": "stdout",
     "output_type": "stream",
     "text": [
      "0\n"
     ]
    }
   ],
   "source": [
    "li1=[2,1,5,6]\n",
    "for i in i1:\n",
    "    if i>max:\n",
    "        second=max\n",
    "        max=i\n",
    "    elif i<max & i>second:\n",
    "        second=i\n",
    "print(second)"
   ]
  },
  {
   "cell_type": "code",
   "execution_count": 23,
   "metadata": {},
   "outputs": [],
   "source": [
    "for i in range(len(li1)):\n",
    "    for j in range(len(li1)):\n",
    "        if li1[i]<li1[j]:\n",
    "            li1[i],li1[j]=li1[j],li1[i]\n",
    "\n",
    "    "
   ]
  },
  {
   "cell_type": "code",
   "execution_count": 24,
   "metadata": {},
   "outputs": [
    {
     "name": "stdout",
     "output_type": "stream",
     "text": [
      "[1, 2, 5, 6]\n"
     ]
    }
   ],
   "source": [
    "print(li1)"
   ]
  },
  {
   "cell_type": "code",
   "execution_count": 29,
   "metadata": {},
   "outputs": [
    {
     "name": "stdout",
     "output_type": "stream",
     "text": [
      "6\n",
      "5\n"
     ]
    },
    {
     "ename": "IndexError",
     "evalue": "list index out of range",
     "output_type": "error",
     "traceback": [
      "\u001b[0;31m---------------------------------------------------------------------------\u001b[0m",
      "\u001b[0;31mIndexError\u001b[0m                                Traceback (most recent call last)",
      "Cell \u001b[0;32mIn[29], line 2\u001b[0m\n\u001b[1;32m      1\u001b[0m \u001b[38;5;28;01mfor\u001b[39;00m i \u001b[38;5;129;01min\u001b[39;00m li1:\n\u001b[0;32m----> 2\u001b[0m     \u001b[38;5;28mprint\u001b[39m(\u001b[43mli1\u001b[49m\u001b[43m[\u001b[49m\u001b[38;5;241;43m-\u001b[39;49m\u001b[43mi\u001b[49m\u001b[43m]\u001b[49m)\n",
      "\u001b[0;31mIndexError\u001b[0m: list index out of range"
     ]
    }
   ],
   "source": [
    "li2=[2,4,5,6,7,8,9]\n",
    "for i range(len(li2)):\n",
    "    if li2>arr[i]:"
   ]
  },
  {
   "cell_type": "code",
   "execution_count": 4,
   "metadata": {},
   "outputs": [
    {
     "name": "stdout",
     "output_type": "stream",
     "text": [
      "95 88 46\n"
     ]
    }
   ],
   "source": [
    "list2=[5,46,88,95,32,88]\n",
    "max,second,third=0,0,0\n",
    "for i in list2:\n",
    "    if i > max:\n",
    "        third=second\n",
    "        second=max\n",
    "        max=i\n",
    "print(max,second,third)"
   ]
  },
  {
   "cell_type": "code",
   "execution_count": null,
   "metadata": {},
   "outputs": [
    {
     "name": "stdout",
     "output_type": "stream",
     "text": [
      "[95, 88, 89]\n"
     ]
    }
   ],
   "source": [
    "rl=[]\n",
    "for i in range(len(list2)):\n",
    "    for j in range(i+1,len(list2)):\n",
    "        if list2[i] < list2[j]:\n",
    "            break\n",
    "        else:\n",
    "            rl.append(list2[i])\n",
    "\n",
    "print(rl)"
   ]
  },
  {
   "cell_type": "code",
   "execution_count": 2,
   "metadata": {},
   "outputs": [
    {
     "name": "stdout",
     "output_type": "stream",
     "text": [
      "[2, 4, 6, 7, 8, 8, 9, 10]\n"
     ]
    }
   ],
   "source": [
    "list2=[10,9,8,6,7,4,8,2]\n",
    "for i in range(len(list2)):\n",
    "    for j in range(i,len(list2)):\n",
    "        if list2[i]>list2[j]:\n",
    "            list2[i],list2[j]=list2[j],list2[i]\n",
    "print(list2)\n",
    "\n",
    "#**if arraySortedOrNot(list2,len(list2)):\n",
    " #   print(\"yes\")\n",
    "#else:\n",
    "    #print(\"no\")***\n"
   ]
  },
  {
   "cell_type": "code",
   "execution_count": 4,
   "metadata": {},
   "outputs": [
    {
     "name": "stdout",
     "output_type": "stream",
     "text": [
      "[1, 2, 3, 4, 5, 3, 4, 4, 5]\n"
     ]
    }
   ],
   "source": [
    "arr=[1,2,2,3,3,3,4,4,5]\n",
    "idx=1\n",
    "for i in range(1,len(arr)):\n",
    "    if arr[i]!=arr[i-1]:\n",
    "        arr[idx]=arr[i]\n",
    "        idx+=1\n",
    "print(arr)"
   ]
  },
  {
   "cell_type": "code",
   "execution_count": 13,
   "metadata": {},
   "outputs": [
    {
     "name": "stdout",
     "output_type": "stream",
     "text": [
      "[1, 2, 3, 4, 5, 2, 3, 4, 5]\n"
     ]
    }
   ],
   "source": [
    "n=len(arr)\n",
    "idx=1\n",
    "for i in range(1, n):\n",
    "        if arr[i] != arr[i - 1]:\n",
    "            arr[idx] = arr[i]\n",
    "            idx+= 1\n",
    "print(arr)"
   ]
  },
  {
   "cell_type": "code",
   "execution_count": 14,
   "metadata": {},
   "outputs": [
    {
     "name": "stdout",
     "output_type": "stream",
     "text": [
      "1 2 3 4 5 "
     ]
    }
   ],
   "source": [
    "def removeDuplicates(arr):\n",
    "    n = len(arr)\n",
    "    if n <= 1:\n",
    "        return n\n",
    "\n",
    "    # Start from the second element\n",
    "    idx = 1  \n",
    "    \n",
    "    for i in range(1, n):\n",
    "        if arr[i] != arr[i - 1]:\n",
    "            arr[idx] = arr[i]\n",
    "            idx += 1\n",
    "\n",
    "    return idx\n",
    "\n",
    "if __name__ == \"__main__\":\n",
    "    arr = [1, 2, 2, 3, 4, 4, 4, 5, 5]\n",
    "    newSize = removeDuplicates(arr)\n",
    "\n",
    "    for i in range(newSize):\n",
    "        print(arr[i], end=\" \")"
   ]
  },
  {
   "cell_type": "code",
   "execution_count": null,
   "metadata": {},
   "outputs": [],
   "source": []
  }
 ],
 "metadata": {
  "kernelspec": {
   "display_name": "Python 3",
   "language": "python",
   "name": "python3"
  },
  "language_info": {
   "codemirror_mode": {
    "name": "ipython",
    "version": 3
   },
   "file_extension": ".py",
   "mimetype": "text/x-python",
   "name": "python",
   "nbconvert_exporter": "python",
   "pygments_lexer": "ipython3",
   "version": "3.10.12"
  }
 },
 "nbformat": 4,
 "nbformat_minor": 2
}

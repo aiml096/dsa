{
 "cells": [
  {
   "cell_type": "code",
   "execution_count": 3,
   "metadata": {},
   "outputs": [
    {
     "name": "stdout",
     "output_type": "stream",
     "text": [
      "1\n",
      "3\n"
     ]
    }
   ],
   "source": [
    "li=[1,2,3,4]\n",
    "for i in range(0,len(li),2):\n",
    "    print(li[i])\n",
    "    "
   ]
  },
  {
   "cell_type": "markdown",
   "metadata": {},
   "source": [
    "<h1>linear search</h1>"
   ]
  },
  {
   "cell_type": "code",
   "execution_count": 6,
   "metadata": {},
   "outputs": [
    {
     "name": "stdout",
     "output_type": "stream",
     "text": [
      "found\n"
     ]
    }
   ],
   "source": [
    "x=2\n",
    "for i in li:\n",
    "    if x==i:\n",
    "        print(\"found\")"
   ]
  },
  {
   "cell_type": "code",
   "execution_count": 10,
   "metadata": {},
   "outputs": [
    {
     "name": "stdout",
     "output_type": "stream",
     "text": [
      "6\n"
     ]
    }
   ],
   "source": [
    "li1=[2,1,5,6]\n",
    "max=0\n",
    "for i in li1:\n",
    "    if i>max:\n",
    "        max=i\n",
    "print(max)"
   ]
  },
  {
   "cell_type": "code",
   "execution_count": 17,
   "metadata": {},
   "outputs": [
    {
     "name": "stdout",
     "output_type": "stream",
     "text": [
      "0\n"
     ]
    }
   ],
   "source": [
    "li1=[2,1,5,6]\n",
    "for i in i1:\n",
    "    if i>max:\n",
    "        second=max\n",
    "        max=i\n",
    "    elif i<max & i>second:\n",
    "        second=i\n",
    "print(second)"
   ]
  },
  {
   "cell_type": "code",
   "execution_count": 23,
   "metadata": {},
   "outputs": [],
   "source": [
    "for i in range(len(li1)):\n",
    "    for j in range(len(li1)):\n",
    "        if li1[i]<li1[j]:\n",
    "            li1[i],li1[j]=li1[j],li1[i]\n",
    "\n",
    "    "
   ]
  },
  {
   "cell_type": "code",
   "execution_count": 24,
   "metadata": {},
   "outputs": [
    {
     "name": "stdout",
     "output_type": "stream",
     "text": [
      "[1, 2, 5, 6]\n"
     ]
    }
   ],
   "source": [
    "print(li1)"
   ]
  },
  {
   "cell_type": "code",
   "execution_count": 29,
   "metadata": {},
   "outputs": [
    {
     "name": "stdout",
     "output_type": "stream",
     "text": [
      "6\n",
      "5\n"
     ]
    },
    {
     "ename": "IndexError",
     "evalue": "list index out of range",
     "output_type": "error",
     "traceback": [
      "\u001b[0;31m---------------------------------------------------------------------------\u001b[0m",
      "\u001b[0;31mIndexError\u001b[0m                                Traceback (most recent call last)",
      "Cell \u001b[0;32mIn[29], line 2\u001b[0m\n\u001b[1;32m      1\u001b[0m \u001b[38;5;28;01mfor\u001b[39;00m i \u001b[38;5;129;01min\u001b[39;00m li1:\n\u001b[0;32m----> 2\u001b[0m     \u001b[38;5;28mprint\u001b[39m(\u001b[43mli1\u001b[49m\u001b[43m[\u001b[49m\u001b[38;5;241;43m-\u001b[39;49m\u001b[43mi\u001b[49m\u001b[43m]\u001b[49m)\n",
      "\u001b[0;31mIndexError\u001b[0m: list index out of range"
     ]
    }
   ],
   "source": [
    "li2=[2,4,5,6,7,8,9]\n",
    "for i range(len(li2)):\n",
    "    if li2>arr[i]:"
   ]
  },
  {
   "cell_type": "code",
   "execution_count": 4,
   "metadata": {},
   "outputs": [
    {
     "name": "stdout",
     "output_type": "stream",
     "text": [
      "95 88 46\n"
     ]
    }
   ],
   "source": [
    "list2=[5,46,88,95,32,88]\n",
    "max,second,third=0,0,0\n",
    "for i in list2:\n",
    "    if i > max:\n",
    "        third=second\n",
    "        second=max\n",
    "        max=i\n",
    "print(max,second,third)"
   ]
  },
  {
   "cell_type": "code",
   "execution_count": null,
   "metadata": {},
   "outputs": [
    {
     "name": "stdout",
     "output_type": "stream",
     "text": [
      "[95, 88, 89]\n"
     ]
    }
   ],
   "source": [
    "rl=[]\n",
    "for i in range(len(list2)):\n",
    "    for j in range(i+1,len(list2)):\n",
    "        if list2[i] < list2[j]:\n",
    "            break\n",
    "        else:\n",
    "            rl.append(list2[i])\n",
    "\n",
    "print(rl)"
   ]
  },
  {
   "cell_type": "code",
   "execution_count": 2,
   "metadata": {},
   "outputs": [
    {
     "name": "stdout",
     "output_type": "stream",
     "text": [
      "[2, 4, 6, 7, 8, 8, 9, 10]\n"
     ]
    }
   ],
   "source": [
    "list2=[10,9,8,6,7,4,8,2]\n",
    "for i in range(len(list2)):\n",
    "    for j in range(i,len(list2)):\n",
    "        if list2[i]>list2[j]:\n",
    "            list2[i],list2[j]=list2[j],list2[i]\n",
    "print(list2)\n",
    "\n",
    "#**if arraySortedOrNot(list2,len(list2)):\n",
    " #   print(\"yes\")\n",
    "#else:\n",
    "    #print(\"no\")***\n"
   ]
  },
  {
   "cell_type": "code",
   "execution_count": 4,
   "metadata": {},
   "outputs": [
    {
     "name": "stdout",
     "output_type": "stream",
     "text": [
      "[1, 2, 3, 4, 5, 3, 4, 4, 5]\n"
     ]
    }
   ],
   "source": [
    "arr=[1,2,2,3,3,3,4,4,5]\n",
    "idx=1\n",
    "for i in range(1,len(arr)):\n",
    "    if arr[i]!=arr[i-1]:\n",
    "        arr[idx]=arr[i]\n",
    "        idx+=1\n",
    "print(arr)"
   ]
  },
  {
   "cell_type": "code",
   "execution_count": 13,
   "metadata": {},
   "outputs": [
    {
     "name": "stdout",
     "output_type": "stream",
     "text": [
      "[1, 2, 3, 4, 5, 2, 3, 4, 5]\n"
     ]
    }
   ],
   "source": [
    "n=len(arr)\n",
    "idx=1\n",
    "for i in range(1, n):\n",
    "        if arr[i] != arr[i - 1]:\n",
    "            arr[idx] = arr[i]\n",
    "            idx+= 1\n",
    "print(arr)"
   ]
  },
  {
   "cell_type": "code",
   "execution_count": 14,
   "metadata": {},
   "outputs": [
    {
     "name": "stdout",
     "output_type": "stream",
     "text": [
      "1 2 3 4 5 "
     ]
    }
   ],
   "source": [
    "def removeDuplicates(arr):\n",
    "    n = len(arr)\n",
    "    if n <= 1:\n",
    "        return n\n",
    "\n",
    "    # Start from the second element\n",
    "    idx = 1  \n",
    "    \n",
    "    for i in range(1, n):\n",
    "        if arr[i] != arr[i - 1]:\n",
    "            arr[idx] = arr[i]\n",
    "            idx += 1\n",
    "\n",
    "    return idx\n",
    "\n",
    "if __name__ == \"__main__\":\n",
    "    arr = [1, 2, 2, 3, 4, 4, 4, 5, 5]\n",
    "    newSize = removeDuplicates(arr)\n",
    "\n",
    "    for i in range(newSize):\n",
    "        print(arr[i], end=\" \")"
   ]
  },
  {
   "cell_type": "code",
   "execution_count": 24,
   "metadata": {},
   "outputs": [
    {
     "name": "stdout",
     "output_type": "stream",
     "text": [
      "[1]\n",
      "[1, 2]\n",
      "[1, 2, 3]\n",
      "[1, 2, 3, 4]\n",
      "[1, 2, 3, 4, 5]\n",
      "[2]\n",
      "[2, 3]\n",
      "[2, 3, 4]\n",
      "[2, 3, 4, 5]\n",
      "[3]\n",
      "[3, 4]\n",
      "[3, 4, 5]\n",
      "[4]\n",
      "[4, 5]\n",
      "[5]\n"
     ]
    }
   ],
   "source": [
    "list2=[1,2,3,4,5]\n",
    "for i in range(len(list2)):\n",
    "    for j in range(i+1,len(list2)+1):\n",
    "        print(list2[i:j])"
   ]
  },
  {
   "cell_type": "code",
   "execution_count": 33,
   "metadata": {},
   "outputs": [
    {
     "name": "stdout",
     "output_type": "stream",
     "text": [
      "[5, 4, 3, 2, 1]\n"
     ]
    }
   ],
   "source": [
    "arr=[1,2,3,4,5]\n",
    "left=0\n",
    "rigth=len(list2)-1\n",
    "while left<rigth:\n",
    "    arr[left],arr[rigth]=arr[rigth],arr[left]\n",
    "    left+=1\n",
    "    rigth-=1\n",
    "print(arr)"
   ]
  },
  {
   "cell_type": "code",
   "execution_count": 7,
   "metadata": {},
   "outputs": [
    {
     "name": "stdout",
     "output_type": "stream",
     "text": [
      "[1, 2, 3, 5, 4, 0, 0, 0, 0]\n"
     ]
    }
   ],
   "source": [
    "arr1=[1,2,3,0,4,0,5,0,0]\n",
    "left=0\n",
    "right=len(arr1)-1\n",
    "while left<right:\n",
    "    if arr1[left]==0:\n",
    "        arr1[left],arr1[right]=arr1[right],arr1[left]\n",
    "        right-=1\n",
    "    else:\n",
    "        left+=1\n",
    "print(arr1)"
   ]
  },
  {
   "cell_type": "code",
   "execution_count": 1,
   "metadata": {},
   "outputs": [
    {
     "name": "stdout",
     "output_type": "stream",
     "text": [
      "[6, 5, 4, 23, 1]\n"
     ]
    }
   ],
   "source": [
    "def sub_array(arr):\n",
    "    left=0\n",
    "    right=len(arr)-1\n",
    "    while left<=right:\n",
    "        arr[left],arr[right]=arr[right],arr[left]\n",
    "        left+=1\n",
    "        right-=1\n",
    "    print(arr)\n",
    "\n",
    "arr=[1,23,4,5,6]\n",
    "sub_array(arr)"
   ]
  },
  {
   "cell_type": "code",
   "execution_count": 5,
   "metadata": {},
   "outputs": [
    {
     "name": "stdout",
     "output_type": "stream",
     "text": [
      "[4, 5, 1, 2, 3]\n"
     ]
    }
   ],
   "source": [
    "def rotation(arr,k):\n",
    "    left=0\n",
    "    right=len(arr)-1\n",
    "    while left<=right:\n",
    "        arr[left],arr[right]=arr[right],arr[left]\n",
    "        left+=1\n",
    "        right-=1\n",
    "    left,right=0,k-1\n",
    "    while left<=right:\n",
    "        arr[left],arr[right]=arr[right],arr[left]\n",
    "        left+=1\n",
    "        right-=1\n",
    "    left,right=k,len(arr)-1 \n",
    "    while left<=right:\n",
    "        arr[left],arr[right]=arr[right],arr[left]\n",
    "        left+=1\n",
    "        right-=1\n",
    "    print(arr)\n",
    "\n",
    "arr=[1,2,3,4,5]\n",
    "k=2\n",
    "rotation(arr,k)"
   ]
  },
  {
   "cell_type": "code",
   "execution_count": 6,
   "metadata": {},
   "outputs": [
    {
     "data": {
      "text/plain": [
       "[1, 2, 3, 4, 5, 6, 7, 0, 0]"
      ]
     },
     "execution_count": 6,
     "metadata": {},
     "output_type": "execute_result"
    }
   ],
   "source": [
    "def zr(arr):\n",
    "    nz=0\n",
    "    for i in range(len(arr)):\n",
    "        if arr[i]!=0:\n",
    "            arr[nz],arr[i]=arr[i],arr[nz]\n",
    "            nz+=1\n",
    "    return arr\n",
    "arr=[1,2,3,4,0,5,0,6,7]\n",
    "zr(arr)"
   ]
  },
  {
   "cell_type": "code",
   "execution_count": 12,
   "metadata": {},
   "outputs": [
    {
     "data": {
      "text/plain": [
       "10.0"
      ]
     },
     "execution_count": 12,
     "metadata": {},
     "output_type": "execute_result"
    }
   ],
   "source": [
    "def equal(arr,k):\n",
    "    count=0\n",
    "    max=0\n",
    "    for i in range(len(arr)):\n",
    "        if arr[i]>max:\n",
    "            max=arr[i]\n",
    "    for i in range(len(arr)):\n",
    "        if (max-arr[i])%k!=0:\n",
    "            return -1\n",
    "        else:\n",
    "            count+=(max-arr[i])/k\n",
    "    return count\n",
    "\n",
    "arr=[1,2,3,4,5]\n",
    "k=1\n",
    "equal(arr,k)\n",
    "\n",
    "\n",
    "\n"
   ]
  },
  {
   "cell_type": "code",
   "execution_count": 14,
   "metadata": {},
   "outputs": [
    {
     "data": {
      "text/plain": [
       "4"
      ]
     },
     "execution_count": 14,
     "metadata": {},
     "output_type": "execute_result"
    }
   ],
   "source": [
    "def size1(arr,n):\n",
    "    return (n-1)*min(arr)\n",
    "\n",
    "arr=[1,2,3,4,5]\n",
    "n=len(arr)\n",
    "size1(arr,n) "
   ]
  },
  {
   "cell_type": "code",
   "execution_count": 16,
   "metadata": {},
   "outputs": [
    {
     "data": {
      "text/plain": [
       "'Hello!world'"
      ]
     },
     "execution_count": 16,
     "metadata": {},
     "output_type": "execute_result"
    }
   ],
   "source": [
    "def i(arr,c,p):\n",
    "    return arr[:p]+c+arr[p:]\n",
    "arr=\"Helloworld\"\n",
    "i(arr,\"!\",5)"
   ]
  },
  {
   "cell_type": "code",
   "execution_count": 16,
   "metadata": {},
   "outputs": [
    {
     "name": "stdout",
     "output_type": "stream",
     "text": [
      "hell*w*rld\n"
     ]
    }
   ],
   "source": [
    "def mul_replace(s,l,r):\n",
    "    s1=\"\"\n",
    "    for i in range(len(s)):\n",
    "        if s[i]==l:\n",
    "            s1=s1+r\n",
    "        else:\n",
    "            s1=s1+s[i]\n",
    "    print(s1)\n",
    "\n",
    "\n",
    "s=\"helloworld\"\n",
    "l=\"o\"\n",
    "r=\"*\"\n",
    "mul_replace(str,l,r)\n"
   ]
  },
  {
   "cell_type": "code",
   "execution_count": 10,
   "metadata": {},
   "outputs": [
    {
     "name": "stdout",
     "output_type": "stream",
     "text": [
      "he**o\n"
     ]
    }
   ],
   "source": [
    "s=\"hello\"\n",
    "s1=\"\"\n",
    "for i in range(len(s)):\n",
    "    if s[i]==\"l\":\n",
    "        s1=s1+\"*\"\n",
    "    else:\n",
    "        s1=s1+s[i]\n",
    "print(s1)\n"
   ]
  },
  {
   "cell_type": "code",
   "execution_count": 17,
   "metadata": {},
   "outputs": [
    {
     "data": {
      "text/plain": [
       "'heo'"
      ]
     },
     "execution_count": 17,
     "metadata": {},
     "output_type": "execute_result"
    }
   ],
   "source": [
    "def remove(s,r):\n",
    "    s1=\"\"\n",
    "    for i in range(len(s)):\n",
    "        if s[i]!=r:\n",
    "            s1=s1+s[i]\n",
    "    return s1\n",
    "\n",
    "s=\"hello\"\n",
    "r=\"l\"\n",
    "remove(s,r)\n"
   ]
  },
  {
   "cell_type": "code",
   "execution_count": 18,
   "metadata": {},
   "outputs": [
    {
     "data": {
      "text/plain": [
       "'helloworld'"
      ]
     },
     "execution_count": 18,
     "metadata": {},
     "output_type": "execute_result"
    }
   ],
   "source": [
    "def con(s,s1):\n",
    "    return s+s1\n",
    "s=\"hello\"\n",
    "s1=\"world\"\n",
    "con(s,s1)"
   ]
  },
  {
   "cell_type": "code",
   "execution_count": 23,
   "metadata": {},
   "outputs": [],
   "source": [
    "def rev(s):\n",
    "    print(s[::-1])\n",
    "\n",
    "s=\"hello\"\n"
   ]
  },
  {
   "cell_type": "code",
   "execution_count": 1,
   "metadata": {},
   "outputs": [],
   "source": [
    "class Node:\n",
    "    def __init__(self,value):\n",
    "        self.data=value\n",
    "        self.next=None"
   ]
  },
  {
   "cell_type": "code",
   "execution_count": 2,
   "metadata": {},
   "outputs": [],
   "source": [
    "a=Node(1)"
   ]
  },
  {
   "cell_type": "code",
   "execution_count": 3,
   "metadata": {},
   "outputs": [
    {
     "data": {
      "text/plain": [
       "<__main__.Node at 0x785b899e5150>"
      ]
     },
     "execution_count": 3,
     "metadata": {},
     "output_type": "execute_result"
    }
   ],
   "source": [
    "a"
   ]
  },
  {
   "cell_type": "code",
   "execution_count": 4,
   "metadata": {},
   "outputs": [
    {
     "data": {
      "text/plain": [
       "1"
      ]
     },
     "execution_count": 4,
     "metadata": {},
     "output_type": "execute_result"
    }
   ],
   "source": [
    "a.data"
   ]
  },
  {
   "cell_type": "code",
   "execution_count": 5,
   "metadata": {},
   "outputs": [],
   "source": [
    "a.next"
   ]
  },
  {
   "cell_type": "code",
   "execution_count": 6,
   "metadata": {},
   "outputs": [],
   "source": [
    "a=Node(1)\n",
    "b=Node(2)\n",
    "c=Node(3)"
   ]
  },
  {
   "cell_type": "code",
   "execution_count": 8,
   "metadata": {},
   "outputs": [
    {
     "name": "stdout",
     "output_type": "stream",
     "text": [
      "None None None\n"
     ]
    }
   ],
   "source": [
    "print(a.next,b.next,c.next)"
   ]
  },
  {
   "cell_type": "code",
   "execution_count": 9,
   "metadata": {},
   "outputs": [],
   "source": [
    "a.next=b\n",
    "b.next=c"
   ]
  },
  {
   "cell_type": "code",
   "execution_count": 10,
   "metadata": {},
   "outputs": [
    {
     "name": "stdout",
     "output_type": "stream",
     "text": [
      "<__main__.Node object at 0x785b899e46a0> <__main__.Node object at 0x785b899e4a00> None\n"
     ]
    }
   ],
   "source": [
    "print(a.next,b.next,c.next)"
   ]
  },
  {
   "cell_type": "code",
   "execution_count": 11,
   "metadata": {},
   "outputs": [],
   "source": [
    "class linkedlist:\n",
    "    def __init__(self,value):\n",
    "        self.data=value\n",
    "        self.n=0\n",
    "    def __len__(self):\n",
    "        return self.n"
   ]
  },
  {
   "cell_type": "code",
   "execution_count": 13,
   "metadata": {},
   "outputs": [
    {
     "data": {
      "text/plain": [
       "0"
      ]
     },
     "execution_count": 13,
     "metadata": {},
     "output_type": "execute_result"
    }
   ],
   "source": [
    "l=linkedlist(1)\n",
    "len(l)"
   ]
  },
  {
   "cell_type": "code",
   "execution_count": 50,
   "metadata": {},
   "outputs": [],
   "source": [
    "class node:\n",
    "    def __init__(self,value):\n",
    "        self.data=value\n",
    "        self.next=None\n",
    "class linkedlist:\n",
    "    def __init__(self):\n",
    "        self.head=None\n",
    "        self.n=0\n",
    "    def __len__(self):\n",
    "        return self.n\n",
    "    def insert_head(self,data):\n",
    "        new_node=node(data)\n",
    "        new_node.next=self.head\n",
    "        self.head=new_node\n",
    "        self.n=self.n+1\n",
    "    def insert(self,data):\n",
    "        new_node=node(data)\n",
    "        temp=self.head\n",
    "        while temp.next!=None:\n",
    "            temp=temp.next\n",
    "            temp.next=new_node\n",
    "            new_node.next=None\n",
    "            self.n=self.n+1\n",
    "            \n",
    "\n",
    "        self.n=self.n+1\n",
    "    def traverse(self):\n",
    "        curr=self.head\n",
    "        res=\"\"\n",
    "        while curr!=None:\n",
    "            res=res+ str(curr.data) +\"->\"\n",
    "            \n",
    "            curr=curr.next\n",
    "        return res[:-2]\n",
    "    def insert_end(self,data):\n",
    "        new_node=node(data)\n",
    "\n",
    "\n",
    "        if self.head==None:\n",
    "            self.head=new_node\n",
    "            new_node.next=None\n",
    "            self.n=self.n+1\n",
    "        else:\n",
    "            \n",
    "            curr=self.head\n",
    "            while curr.next!=None:\n",
    "                curr=curr.next\n",
    "                if curr.next==None:\n",
    "                    curr.next=new_node\n",
    "                    new_node.next=None\n",
    "                    self.n=self.n+1\n",
    "    def insert_middle(self,data,poss):\n",
    "        new_node=node(data)\n",
    "        temp=self.head\n",
    "        while(temp!=None):\n",
    "            if temp==poss:\n",
    "                new_node.next=temp.next\n",
    "                temp.next=new_node\n",
    "            \n",
    "            \n",
    "        \n",
    "            \n",
    "    "
   ]
  },
  {
   "cell_type": "code",
   "execution_count": 30,
   "metadata": {},
   "outputs": [],
   "source": [
    "l=linkedlist()\n",
    "l.insert_head(1)\n",
    "l.insert_head(2)\n",
    "l.insert_head(3)"
   ]
  },
  {
   "cell_type": "code",
   "execution_count": 8,
   "metadata": {},
   "outputs": [],
   "source": [
    "l=linkedlist()\n",
    "l.insert_end(0)"
   ]
  },
  {
   "cell_type": "code",
   "execution_count": 17,
   "metadata": {},
   "outputs": [
    {
     "data": {
      "text/plain": [
       "'3->2->1'"
      ]
     },
     "execution_count": 17,
     "metadata": {},
     "output_type": "execute_result"
    }
   ],
   "source": [
    "l.traverse()"
   ]
  },
  {
   "cell_type": "code",
   "execution_count": 48,
   "metadata": {},
   "outputs": [],
   "source": [
    "l1=linkedlist()"
   ]
  },
  {
   "cell_type": "code",
   "execution_count": 51,
   "metadata": {},
   "outputs": [
    {
     "ename": "UnboundLocalError",
     "evalue": "local variable 'temp' referenced before assignment",
     "output_type": "error",
     "traceback": [
      "\u001b[0;31m---------------------------------------------------------------------------\u001b[0m",
      "\u001b[0;31mUnboundLocalError\u001b[0m                         Traceback (most recent call last)",
      "Cell \u001b[0;32mIn[51], line 1\u001b[0m\n\u001b[0;32m----> 1\u001b[0m \u001b[43ml1\u001b[49m\u001b[38;5;241;43m.\u001b[39;49m\u001b[43minsert\u001b[49m\u001b[43m(\u001b[49m\u001b[38;5;241;43m1\u001b[39;49m\u001b[43m)\u001b[49m\n\u001b[1;32m      2\u001b[0m l1\u001b[38;5;241m.\u001b[39minsert(\u001b[38;5;241m2\u001b[39m)\n\u001b[1;32m      3\u001b[0m l1\u001b[38;5;241m.\u001b[39minsert(\u001b[38;5;241m3\u001b[39m)\n",
      "Cell \u001b[0;32mIn[47], line 18\u001b[0m, in \u001b[0;36mlinkedlist.insert\u001b[0;34m(self, data)\u001b[0m\n\u001b[1;32m     16\u001b[0m \u001b[38;5;28;01mdef\u001b[39;00m \u001b[38;5;21minsert\u001b[39m(\u001b[38;5;28mself\u001b[39m,data):\n\u001b[1;32m     17\u001b[0m     new_node\u001b[38;5;241m=\u001b[39mnode(data)\n\u001b[0;32m---> 18\u001b[0m     \u001b[38;5;28;01mwhile\u001b[39;00m \u001b[43mtemp\u001b[49m\u001b[38;5;241m.\u001b[39mnext\u001b[38;5;241m!=\u001b[39m\u001b[38;5;28;01mNone\u001b[39;00m:\n\u001b[1;32m     19\u001b[0m         temp\u001b[38;5;241m=\u001b[39mtemp\u001b[38;5;241m.\u001b[39mnext\n\u001b[1;32m     20\u001b[0m         temp\u001b[38;5;241m.\u001b[39mnext\u001b[38;5;241m=\u001b[39mnew_node\n",
      "\u001b[0;31mUnboundLocalError\u001b[0m: local variable 'temp' referenced before assignment"
     ]
    }
   ],
   "source": [
    "l1.insert(1)\n",
    "l1.insert(2)\n",
    "l1.insert(3)"
   ]
  },
  {
   "cell_type": "code",
   "execution_count": 46,
   "metadata": {},
   "outputs": [
    {
     "data": {
      "text/plain": [
       "'1'"
      ]
     },
     "execution_count": 46,
     "metadata": {},
     "output_type": "execute_result"
    }
   ],
   "source": [
    "l1.traverse()"
   ]
  },
  {
   "cell_type": "code",
   "execution_count": null,
   "metadata": {},
   "outputs": [],
   "source": []
  }
 ],
 "metadata": {
  "kernelspec": {
   "display_name": "Python 3",
   "language": "python",
   "name": "python3"
  },
  "language_info": {
   "codemirror_mode": {
    "name": "ipython",
    "version": 3
   },
   "file_extension": ".py",
   "mimetype": "text/x-python",
   "name": "python",
   "nbconvert_exporter": "python",
   "pygments_lexer": "ipython3",
   "version": "3.10.12"
  }
 },
 "nbformat": 4,
 "nbformat_minor": 2
}

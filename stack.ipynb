{
 "cells": [
  {
   "cell_type": "code",
   "execution_count": null,
   "metadata": {},
   "outputs": [],
   "source": [
    "stack=[]\n",
    "def push():\n",
    "    i=input(\"enter the input\")\n",
    "    stack.append(i)\n",
    "def pop():\n",
    "    stack.pop()\n",
    "    print(\"\")\n",
    "def display():\n",
    "    for i in stack:\n",
    "        print(i)\n",
    "while True:\n",
    "    z=input(\"1)push 2)pop 3)display 4)quit\")\n",
    "    if z==\"1\":\n",
    "        push()\n",
    "    elif z==\"2\":\n",
    "        pop()\n",
    "    elif z==\"3\":\n",
    "        display()\n",
    "    elif z==\"4\":\n",
    "        break\n",
    "    else:\n",
    "        print(\"valid one\")"
   ]
  },
  {
   "cell_type": "code",
   "execution_count": null,
   "metadata": {},
   "outputs": [],
   "source": []
  }
 ],
 "metadata": {
  "kernelspec": {
   "display_name": "base",
   "language": "python",
   "name": "python3"
  },
  "language_info": {
   "codemirror_mode": {
    "name": "ipython",
    "version": 3
   },
   "file_extension": ".py",
   "mimetype": "text/x-python",
   "name": "python",
   "nbconvert_exporter": "python",
   "pygments_lexer": "ipython3",
   "version": "3.11.7"
  }
 },
 "nbformat": 4,
 "nbformat_minor": 2
}
